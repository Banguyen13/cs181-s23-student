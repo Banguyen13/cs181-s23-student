{
 "cells": [
  {
   "attachments": {},
   "cell_type": "markdown",
   "metadata": {},
   "source": [
    "# Denison CS181/DA210 Homework 3.b - Step 1\n",
    "\n",
    "Before you turn this notebook in, make sure everything runs as expected. This is a combination of **restarting the kernel** and then **running all cells**.\n",
    "\n",
    "Make sure you fill in any place that says `# YOUR CODE HERE` or \"YOUR ANSWER HERE\"."
   ]
  },
  {
   "cell_type": "markdown",
   "metadata": {},
   "source": [
    "---"
   ]
  },
  {
   "cell_type": "code",
   "execution_count": 1,
   "metadata": {},
   "outputs": [],
   "source": [
    "import io\n",
    "from lxml import etree\n",
    "import json\n",
    "import sys\n",
    "import os.path\n",
    "import pandas as pd\n",
    "\n",
    "datadir = \"publicdata\""
   ]
  },
  {
   "attachments": {},
   "cell_type": "markdown",
   "metadata": {},
   "source": [
    "---\n",
    "\n",
    "## Part A\n",
    "\n",
    "**Q1:** Write a function:\n",
    "```\n",
    "    getLocalXML(filename, datadir=\".\", parser=None)\n",
    "``` \n",
    "that performs the common steps of creating a path from the given `filename` and `datadir` and parses the XML file, using the passed `parser`, if any, and returns the Element at the **root** of the tree.  If `parser` is not passed, the standard `XMLParser` should be used.\n",
    "\n",
    "If the file is not found, or if the parse is unsuccessful (due to XML not being \"well formed\"), the function should return `None`. Remember that if a parse is unsuccessful, the `etree` module raises an exception.  That means that you should have a `try` block, and indented within that block, the `parse()` invocation should occur.  The `try` block is followed by an `except Exception as e:` line, and within that, your return `None`.  If no exception is raised, code execution will proceed beyond the `try`/`except` block, and that is where you would return the root of the parsed tree."
   ]
  },
  {
   "cell_type": "code",
   "execution_count": 4,
   "metadata": {
    "deletable": false,
    "nbgrader": {
     "cell_type": "code",
     "checksum": "dc60129e2c9655261e8becb2445eadd7",
     "grade": false,
     "grade_id": "cell-81428647baf27b6c",
     "locked": false,
     "schema_version": 3,
     "solution": true,
     "task": false
    }
   },
   "outputs": [],
   "source": [
    "def getLocalXML(filename,datadir='.',parser=None):\n",
    "    \"\"\"\n",
    "    Create a path from the given filename and datadir, parse the XML file, and return the the root of the tree.\n",
    "    \"\"\"\n",
    "    if filename not in os.listdir(datadir):\n",
    "        return None\n",
    "    filepath=os.path.join(datadir,filename)\n",
    "    tree=etree.parse(filepath,parser)\n",
    "    root=tree.getroot()\n",
    "    return root"
   ]
  },
  {
   "cell_type": "code",
   "execution_count": 5,
   "metadata": {
    "deletable": false,
    "editable": false,
    "nbgrader": {
     "cell_type": "code",
     "checksum": "d6144ce6aa101a8303fecf3330e31d89",
     "grade": true,
     "grade_id": "cell-6f7ca02f25f931f2",
     "locked": true,
     "points": 3,
     "schema_version": 3,
     "solution": false,
     "task": false
    }
   },
   "outputs": [],
   "source": [
    "# Testing cell\n",
    "assert getLocalXML.__doc__ is not None # don't forget the docstring!\n",
    "\n",
    "myparser = etree.XMLParser(remove_blank_text=True)\n",
    "\n",
    "wroot = getLocalXML(\"widombooks.xml\", datadir, myparser)\n",
    "assert len(wroot) == 8\n",
    "bad = getLocalXML(\"foo.xml\", datadir, myparser)\n",
    "assert bad == None\n",
    "bad2 = getLocalXML(\"bad.xml\", datadir)\n",
    "assert bad2==None"
   ]
  },
  {
   "attachments": {},
   "cell_type": "markdown",
   "metadata": {},
   "source": [
    "---\n",
    "\n",
    "---\n",
    "\n",
    "## Part B\n",
    "\n",
    "**Q2:** How much time (in minutes/hours) did you spend on this homework assignment?"
   ]
  },
  {
   "attachments": {},
   "cell_type": "markdown",
   "metadata": {},
   "source": [
    "10 minutes"
   ]
  },
  {
   "attachments": {},
   "cell_type": "markdown",
   "metadata": {},
   "source": [
    "**Q3:** Who was your partner for this assignment?  If you worked alone, say so instead."
   ]
  },
  {
   "attachments": {},
   "cell_type": "markdown",
   "metadata": {},
   "source": [
    "I worked alone"
   ]
  }
 ],
 "metadata": {
  "kernelspec": {
   "display_name": "base",
   "language": "python",
   "name": "python3"
  },
  "language_info": {
   "codemirror_mode": {
    "name": "ipython",
    "version": 3
   },
   "file_extension": ".py",
   "mimetype": "text/x-python",
   "name": "python",
   "nbconvert_exporter": "python",
   "pygments_lexer": "ipython3",
   "version": "3.9.13"
  },
  "vscode": {
   "interpreter": {
    "hash": "93fc9b33c1427d493507b767617e7d6696407eb1dd3e28f7c0d478e34d49572c"
   }
  }
 },
 "nbformat": 4,
 "nbformat_minor": 4
}
