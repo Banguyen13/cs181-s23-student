{
 "cells": [
  {
   "attachments": {},
   "cell_type": "markdown",
   "metadata": {},
   "source": [
    "# Denison CS181/DA210 Homework 1.b - Step 2\n",
    "\n",
    "Before you turn this notebook in, make sure everything runs as expected. This is a combination of **restarting the kernel** and then **running all cells**.\n",
    "\n",
    "Make sure you fill in any place that says `# YOUR CODE HERE` or \"YOUR ANSWER HERE\"."
   ]
  },
  {
   "cell_type": "markdown",
   "metadata": {},
   "source": [
    "---"
   ]
  },
  {
   "cell_type": "code",
   "execution_count": 1,
   "metadata": {},
   "outputs": [],
   "source": [
    "import os\n",
    "import os.path\n",
    "import io\n",
    "import sys\n",
    "from contextlib import redirect_stdout\n",
    "\n",
    "datadir = \"publicdata\""
   ]
  },
  {
   "attachments": {},
   "cell_type": "markdown",
   "metadata": {},
   "source": [
    "---\n",
    "\n",
    "## Part C\n",
    "\n",
    "**Q10:** Write a function\n",
    "\n",
    "```\n",
    "    myFileList(directoryPath)\n",
    "```\n",
    "    \n",
    "that queries the specified directory, `directoryPath`, for the files and folders contained therein and generates and returns a list with an element for each of the non-hidden **files** in the directory.  This means that your list should **not** include any entries for hidden files (that start with a `.` character), nor should it include entries for directories (i.e., folders)."
   ]
  },
  {
   "cell_type": "code",
   "execution_count": 2,
   "metadata": {
    "deletable": false,
    "nbgrader": {
     "cell_type": "code",
     "checksum": "c5cc48f43ddc58d09911fd8a5cc76814",
     "grade": false,
     "grade_id": "cell-5a2690ad91df7a9f",
     "locked": false,
     "schema_version": 3,
     "solution": true,
     "task": false
    }
   },
   "outputs": [
    {
     "name": "stdout",
     "output_type": "stream",
     "text": [
      "['filebasic.ipynb', 'pythonbasic1.ipynb', 'README.md']\n"
     ]
    }
   ],
   "source": [
    "# Solution cell\n",
    "\n",
    "def myFileList(directoryPath):\n",
    "    \"\"\"\n",
    "    Queries, generates and returns a list with an element for each of the non-hidden files in the directory directoryPath\n",
    "    \"\"\"\n",
    "\n",
    "    dir=os.getcwd()\n",
    "    path=os.path.join(dir,directoryPath)\n",
    "    non_hidden=[]\n",
    "    fileList=os.listdir(path)\n",
    "    for file in fileList:\n",
    "        file_path=os.path.join(path,file)\n",
    "        if os.path.isfile(file_path)==True and file[0]!='.':\n",
    "            non_hidden.append(file)\n",
    "    return non_hidden\n",
    "print(myFileList('.'))\n",
    "\n",
    "#raise NotImplementedError()"
   ]
  },
  {
   "cell_type": "code",
   "execution_count": 3,
   "metadata": {
    "deletable": false,
    "editable": false,
    "nbgrader": {
     "cell_type": "code",
     "checksum": "36ed9b1c4f800d2d278ce00acf9d89ed",
     "grade": true,
     "grade_id": "cell-07f7d7e0c1519cdf",
     "locked": true,
     "points": 1,
     "schema_version": 3,
     "solution": false,
     "task": false
    }
   },
   "outputs": [],
   "source": [
    "# Testing cell\n",
    "assert myFileList.__doc__ is not None # don't forget the docstring!\n",
    "\n",
    "hw_1b_filelist = myFileList(\".\")\n",
    "\n",
    "assert len(hw_1b_filelist) == 3\n",
    "assert \"filebasic.ipynb\" in hw_1b_filelist\n",
    "assert \"README.md\" in hw_1b_filelist"
   ]
  },
  {
   "cell_type": "code",
   "execution_count": 4,
   "metadata": {
    "deletable": false,
    "editable": false,
    "nbgrader": {
     "cell_type": "code",
     "checksum": "274123efa2df26ee9ff46bcce394a838",
     "grade": true,
     "grade_id": "cell-4379c9eebdfdaf7e",
     "locked": true,
     "points": 2,
     "schema_version": 3,
     "solution": false,
     "task": false
    }
   },
   "outputs": [],
   "source": [
    "# Testing cell with tougher test cases\n",
    "\n",
    "publicdata_filelist = myFileList(datadir)\n",
    "assert \"tennyson.txt\" in publicdata_filelist\n",
    "assert \"file1\" in publicdata_filelist"
   ]
  },
  {
   "attachments": {},
   "cell_type": "markdown",
   "metadata": {},
   "source": [
    "---\n",
    "\n",
    "---\n",
    "## Part D\n",
    "\n",
    "How much time (in minutes/hours) did you spend on this homework assignment?"
   ]
  },
  {
   "attachments": {},
   "cell_type": "markdown",
   "metadata": {},
   "source": [
    "About 2 hours"
   ]
  },
  {
   "cell_type": "markdown",
   "metadata": {},
   "source": [
    "Who was your partner for this assignment?  If you worked alone, say so instead."
   ]
  },
  {
   "attachments": {},
   "cell_type": "markdown",
   "metadata": {},
   "source": [
    "I worked alone"
   ]
  }
 ],
 "metadata": {
  "kernelspec": {
   "display_name": "Python 3",
   "language": "python",
   "name": "python3"
  },
  "language_info": {
   "codemirror_mode": {
    "name": "ipython",
    "version": 3
   },
   "file_extension": ".py",
   "mimetype": "text/x-python",
   "name": "python",
   "nbconvert_exporter": "python",
   "pygments_lexer": "ipython3",
   "version": "3.10.8"
  },
  "vscode": {
   "interpreter": {
    "hash": "7cb1494015fc370b1619de45b9bbee3f909b2f852a3a52572a75e5faef5df383"
   }
  }
 },
 "nbformat": 4,
 "nbformat_minor": 4
}
