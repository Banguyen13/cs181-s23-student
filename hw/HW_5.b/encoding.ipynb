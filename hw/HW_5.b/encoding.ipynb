{
 "cells": [
  {
   "attachments": {},
   "cell_type": "markdown",
   "metadata": {},
   "source": [
    "# Denison CS181/DA210 Homework 5.b - Step 1\n",
    "\n",
    "Before you turn this notebook in, make sure everything runs as expected. This is a combination of **restarting the kernel** and then **running all cells**.\n",
    "\n",
    "Make sure you fill in any place that says `# YOUR CODE HERE` or \"YOUR ANSWER HERE\"."
   ]
  },
  {
   "cell_type": "markdown",
   "metadata": {},
   "source": [
    "---"
   ]
  },
  {
   "attachments": {},
   "cell_type": "markdown",
   "metadata": {},
   "source": [
    "## Part A\n",
    "\n",
    "**Q1:** One of the reasons for the existence of *Unicode* is its ability to use strings that go beyond the limitations of the keyboard.  Relative to the discussion in the chapter, *Unicode* is about the *strings* we can use in our programs, and the issue of how they translate/map to a sequence of *bytes* (i.e. their *encoding*) is a separate concept.\n",
    "\n",
    "When we have the *code-point* (generally a hex digit sequence identifying an index into the set of characters) for a Unicode character that is beyond our normal keyboard characters, we can include them in our strings by using the `\\u` escape prefix followed by the hex digits for the code-point.  Consider the Python string s:\n",
    "\n",
    "    s = \"Unicode examples: \\u2B2C and \\u266A and \\u1F60 and \" \\\n",
    "        \"\\u265E and \\u0394 and \\u0402\"\n",
    "        \n",
    "Write code to print `s`, then assign to `b8` the UTF-8 encoding of `s`, and `b16` the UTF-16BE encoding of `s`.  For each, use the `.hex()` method of the `bytes` data type to see a hex version of the encoded values."
   ]
  },
  {
   "cell_type": "code",
   "execution_count": 4,
   "metadata": {
    "deletable": false,
    "nbgrader": {
     "cell_type": "code",
     "checksum": "193e8b2d0fc60555acb596cbf67a56ce",
     "grade": true,
     "grade_id": "cell-e2e0441cf1a37b54",
     "locked": false,
     "points": 2,
     "schema_version": 3,
     "solution": true,
     "task": false
    }
   },
   "outputs": [],
   "source": [
    "s = \"Unicode examples: \\u2B2C and \\u266A and \\u1F60 and \" \\\n",
    "    \"\\u265E and \\u0394 and \\u0402\"\n",
    "b8=s.encode()\n",
    "b16=s.encode(encoding=\"UTF-16BE\")"
   ]
  },
  {
   "cell_type": "code",
   "execution_count": 5,
   "metadata": {},
   "outputs": [
    {
     "data": {
      "text/plain": [
       "'556e69636f6465206578616d706c65733a20e2acac20616e6420e299aa20616e6420e1bda020616e6420e2999e20616e6420ce9420616e6420d082'"
      ]
     },
     "execution_count": 5,
     "metadata": {},
     "output_type": "execute_result"
    }
   ],
   "source": [
    "b8.hex()"
   ]
  },
  {
   "cell_type": "code",
   "execution_count": 6,
   "metadata": {},
   "outputs": [
    {
     "data": {
      "text/plain": [
       "'0055006e00690063006f006400650020006500780061006d0070006c00650073003a00202b2c00200061006e00640020266a00200061006e006400201f6000200061006e00640020265e00200061006e00640020039400200061006e006400200402'"
      ]
     },
     "execution_count": 6,
     "metadata": {},
     "output_type": "execute_result"
    }
   ],
   "source": [
    "b16.hex()"
   ]
  },
  {
   "cell_type": "markdown",
   "metadata": {},
   "source": [
    "**Q2:** Consider the results of Q1, and answer the following questions: \n",
    "\n",
    "- which of the hex representations is longer?\n",
    "- give explicit lengths for `b8`, `b16`, and for the two `hex()` transformations.\n",
    "- how does this compare to the length of `s`?"
   ]
  },
  {
   "cell_type": "code",
   "execution_count": 7,
   "metadata": {},
   "outputs": [
    {
     "name": "stdout",
     "output_type": "stream",
     "text": [
      "Length of b16 98\n",
      "Length of b8 59\n",
      "Length of the hex of b8 118\n",
      "Length of the hex of b16 196\n",
      "Length of s 49\n"
     ]
    }
   ],
   "source": [
    "print(\"Length of b16\",len(b16))\n",
    "print(\"Length of b8\", len(b8))\n",
    "print(\"Length of the hex of b8\", len(b8.hex()))\n",
    "print(\"Length of the hex of b16\", len(b16.hex()))\n",
    "print(\"Length of s\", len(s))"
   ]
  },
  {
   "attachments": {},
   "cell_type": "markdown",
   "metadata": {},
   "source": [
    "**Q3:** Write a function\n",
    "```\n",
    "    shiftLetter(letter, n)\n",
    "```\n",
    "whose parameter, `letter` should be a single character.  If the character is between `\"A\"` and `\"Z\"`, the function returns an upper case character $n$ positions further along, and \"wrapping\" if the + $n$ mapping goes past `\"Z\"`.  Likewise, it should map the lowercase characters between `\"a\"` and `\"z\"`.  If the parameter `letter` is anything else, or not of length 1, the function should return `letter`.\n",
    "\n",
    "Hint: review functions `ord()` and `chr()` from Section 21.1.1, as well as the modulus operator `%`."
   ]
  },
  {
   "cell_type": "code",
   "execution_count": 8,
   "metadata": {
    "deletable": false,
    "nbgrader": {
     "cell_type": "code",
     "checksum": "daf9985ae05f0badf024ae7a36a63a11",
     "grade": false,
     "grade_id": "cell-fb6f443b7ea95ec8",
     "locked": false,
     "schema_version": 3,
     "solution": true,
     "task": false
    }
   },
   "outputs": [],
   "source": [
    "def shiftLetter(letter,n):\n",
    "    if len(letter)>1 or ord(\"z\")<ord(letter) or ord(letter)<ord(\"A\") or ord(\"Z\")<ord(letter)<ord(\"a\"):\n",
    "        return letter\n",
    "    if ord(letter)<ord(\"a\"):\n",
    "        i=ord(letter)\n",
    "        if i+n>ord(\"Z\"):\n",
    "            return chr(i+n-ord(\"Z\")+ord(\"A\")-1)\n",
    "        return chr(i+n)\n",
    "    if ord(\"Z\")<ord(letter)<=ord(\"z\"):\n",
    "        i=ord(letter)\n",
    "        if i+n>ord(\"z\"):\n",
    "            return chr(i+n-ord(\"z\")+ord(\"a\")-1)\n",
    "        return chr(i+n)\n",
    "    "
   ]
  },
  {
   "cell_type": "code",
   "execution_count": 9,
   "metadata": {},
   "outputs": [
    {
     "name": "stdout",
     "output_type": "stream",
     "text": [
      "B\n",
      "A\n",
      "P\n",
      "Z\n"
     ]
    }
   ],
   "source": [
    "# Debugging cell\n",
    "print(shiftLetter(\"A\", 1))\n",
    "print(shiftLetter(\"Z\", 1))\n",
    "print(shiftLetter(\"M\", 3))\n",
    "print(shiftLetter(\"X\", 2))"
   ]
  },
  {
   "cell_type": "code",
   "execution_count": 10,
   "metadata": {
    "deletable": false,
    "editable": false,
    "nbgrader": {
     "cell_type": "code",
     "checksum": "e3ba619249352e935e81ea5c9ffe84d6",
     "grade": true,
     "grade_id": "cell-8d8fb21572039cbd",
     "locked": true,
     "points": 3,
     "schema_version": 3,
     "solution": false,
     "task": false
    }
   },
   "outputs": [],
   "source": [
    "# Testing cell\n",
    "assert shiftLetter(\"A\", 1) == \"B\"\n",
    "assert shiftLetter(\"Z\", 1) == \"A\"\n",
    "assert shiftLetter(\"M\", 3) == \"P\"\n",
    "assert shiftLetter(\"X\", 2) == \"Z\"\n",
    "\n",
    "assert shiftLetter(\"a\", 1) == \"b\"\n",
    "assert shiftLetter(\"z\", 1) == \"a\"\n",
    "assert shiftLetter(\"m\", 3) == \"p\"\n",
    "assert shiftLetter(\"x\", 2) == \"z\"\n",
    "\n",
    "\n",
    "assert shiftLetter(\" \", 1) == \" \"\n",
    "assert shiftLetter(\"-\", 1) == \"-\"\n",
    "assert shiftLetter(\"/\", 3) == \"/\"\n",
    "assert shiftLetter(\"^\", 5) == \"^\"\n",
    "\n",
    "assert shiftLetter(\"abc\", 4) == \"abc\""
   ]
  },
  {
   "cell_type": "markdown",
   "metadata": {},
   "source": [
    "**Q4:** Building on the previous exercise, write a function\n",
    "```\n",
    "    encrypt(plaintext, n)\n",
    "```\n",
    "that performs a `shiftLetter` for each of the letters in `plaintext` and accumulates and returns the resultant string."
   ]
  },
  {
   "cell_type": "code",
   "execution_count": 11,
   "metadata": {
    "deletable": false,
    "nbgrader": {
     "cell_type": "code",
     "checksum": "fe314ed29f5c7d84324dec46d1662205",
     "grade": false,
     "grade_id": "cell-32d65f646b2da222",
     "locked": false,
     "schema_version": 3,
     "solution": true,
     "task": false
    }
   },
   "outputs": [],
   "source": [
    "def encrypt(plaintext,n):\n",
    "    res=''\n",
    "    for letter in plaintext:\n",
    "        res+=shiftLetter(letter,n)\n",
    "    return res"
   ]
  },
  {
   "cell_type": "code",
   "execution_count": 12,
   "metadata": {},
   "outputs": [
    {
     "name": "stdout",
     "output_type": "stream",
     "text": [
      "bcd\n",
      "zab ZAB\n"
     ]
    }
   ],
   "source": [
    "# Debugging cell\n",
    "print(encrypt(\"abc\", 1))\n",
    "print(encrypt(\"xyz XYZ\", 2))"
   ]
  },
  {
   "cell_type": "code",
   "execution_count": 13,
   "metadata": {
    "deletable": false,
    "editable": false,
    "nbgrader": {
     "cell_type": "code",
     "checksum": "d376e44fdcd84070890bfeba343d2825",
     "grade": true,
     "grade_id": "cell-fef1d4cb2dc5b399",
     "locked": true,
     "points": 2,
     "schema_version": 3,
     "solution": false,
     "task": false
    }
   },
   "outputs": [],
   "source": [
    "# Testing cell\n",
    "assert encrypt(\"abc\", 1) == \"bcd\"\n",
    "assert encrypt(\"xyz XYZ\", 2) == \"zab ZAB\""
   ]
  },
  {
   "cell_type": "markdown",
   "metadata": {},
   "source": [
    "**Q5:** Write a function \n",
    "```\n",
    "    singleByteChars(s)\n",
    "   ``` \n",
    "that takes its argument, `s`, and returns `True` if all the characters in `s` can be encoded by a single byte, and `False` otherwise."
   ]
  },
  {
   "cell_type": "code",
   "execution_count": 23,
   "metadata": {
    "deletable": false,
    "nbgrader": {
     "cell_type": "code",
     "checksum": "e8e199d3f16e2769e7033e1051ebb78b",
     "grade": false,
     "grade_id": "cell-938f90290ee40c69",
     "locked": false,
     "schema_version": 3,
     "solution": true,
     "task": false
    }
   },
   "outputs": [
    {
     "name": "stdout",
     "output_type": "stream",
     "text": [
      "True\n"
     ]
    },
    {
     "data": {
      "text/plain": [
       "True"
      ]
     },
     "execution_count": 23,
     "metadata": {},
     "output_type": "execute_result"
    }
   ],
   "source": [
    "def singleByteChars(s):\n",
    "    for char in s:\n",
    "        if ord(char)>256:\n",
    "            return False\n",
    "        return True\n",
    "\n",
    "print(singleByteChars(\"Hello \\u2B2C\"))\n",
    "singleByteChars(\"Hello\")"
   ]
  },
  {
   "cell_type": "code",
   "execution_count": 15,
   "metadata": {
    "deletable": false,
    "editable": false,
    "nbgrader": {
     "cell_type": "code",
     "checksum": "f0e876babe175258089c87a6649f8952",
     "grade": true,
     "grade_id": "cell-a02544e577b74f0a",
     "locked": true,
     "points": 2,
     "schema_version": 3,
     "solution": false,
     "task": false
    }
   },
   "outputs": [
    {
     "ename": "AssertionError",
     "evalue": "",
     "output_type": "error",
     "traceback": [
      "\u001b[1;31m---------------------------------------------------------------------------\u001b[0m",
      "\u001b[1;31mAssertionError\u001b[0m                            Traceback (most recent call last)",
      "\u001b[1;32m~\\AppData\\Local\\Temp\\ipykernel_18272\\672547094.py\u001b[0m in \u001b[0;36m<module>\u001b[1;34m\u001b[0m\n\u001b[0;32m      1\u001b[0m \u001b[1;31m# Testing cell\u001b[0m\u001b[1;33m\u001b[0m\u001b[1;33m\u001b[0m\u001b[0m\n\u001b[1;32m----> 2\u001b[1;33m \u001b[1;32massert\u001b[0m \u001b[0msingleByteChars\u001b[0m\u001b[1;33m(\u001b[0m\u001b[1;34m\"Hello \\u2B2C\"\u001b[0m\u001b[1;33m)\u001b[0m \u001b[1;33m==\u001b[0m \u001b[1;32mFalse\u001b[0m\u001b[1;33m\u001b[0m\u001b[1;33m\u001b[0m\u001b[0m\n\u001b[0m\u001b[0;32m      3\u001b[0m \u001b[1;32massert\u001b[0m \u001b[0msingleByteChars\u001b[0m\u001b[1;33m(\u001b[0m\u001b[1;34m\"Hello\"\u001b[0m\u001b[1;33m)\u001b[0m \u001b[1;33m==\u001b[0m \u001b[1;32mTrue\u001b[0m\u001b[1;33m\u001b[0m\u001b[1;33m\u001b[0m\u001b[0m\n",
      "\u001b[1;31mAssertionError\u001b[0m: "
     ]
    }
   ],
   "source": [
    "# Testing cell\n",
    "assert singleByteChars(\"Hello \\u2B2C\") == False\n",
    "assert singleByteChars(\"Hello\") == True"
   ]
  },
  {
   "attachments": {},
   "cell_type": "markdown",
   "metadata": {},
   "source": [
    "**Q6:** Suppose you have, in your Python program, a variable that refers to a `bytes` data type, like `mystery` refers to the `bytes` constant literal as given here:\n",
    "```\n",
    "    mystery = b'\\xc9\\xa2\\x95}\\xa3@\\x89\\xa3@\\x87\\x99\\x85'    \\\n",
    "              b'\\x81\\xa3@\\xa3\\x96@\\x82\\x85@\\xa2\\x96\\x93'    \\\n",
    "              b'\\xa5\\x89\\x95\\x87@\\x97\\x99\\x96\\x82\\x93\\x85'  \\\n",
    "              b'\\x94\\xa2o@@\\xe8\\x96\\xa4@\\x82\\x85\\xa3Z'\n",
    "```              \n",
    "Perhaps this value came from a network message, or from a file.  But you suspect that it, in fact, holds the bytes for a character string, and you need to figure out how it is encoding.  Assume that you have narrowed the encodings down to one of the following:\n",
    "\n",
    "- 'UTF-8'\n",
    "- 'UTF-16BE'\n",
    "- 'cp037'\n",
    "- 'latin_1'\n",
    "\n",
    "Write code to convert the byte sequence to a character string, and determine the correct encoding.  By the end of your code, assign to `s_mystery` the correctly decoded string."
   ]
  },
  {
   "cell_type": "code",
   "execution_count": 47,
   "metadata": {
    "deletable": false,
    "nbgrader": {
     "cell_type": "code",
     "checksum": "09164073244c9af85c30f001b541724f",
     "grade": false,
     "grade_id": "cell-6ce4980e23e78176",
     "locked": false,
     "schema_version": 3,
     "solution": true,
     "task": false
    }
   },
   "outputs": [
    {
     "name": "stdout",
     "output_type": "stream",
     "text": [
      "Isn't it great to be solving problems?  You bet!\n"
     ]
    }
   ],
   "source": [
    "mystery = b'\\xc9\\xa2\\x95}\\xa3@\\x89\\xa3@\\x87\\x99\\x85'    \\\n",
    "          b'\\x81\\xa3@\\xa3\\x96@\\x82\\x85@\\xa2\\x96\\x93'    \\\n",
    "          b'\\xa5\\x89\\x95\\x87@\\x97\\x99\\x96\\x82\\x93\\x85'  \\\n",
    "          b'\\x94\\xa2o@@\\xe8\\x96\\xa4@\\x82\\x85\\xa3Z'\n",
    "for method in ['UTF-8','UTF-16BE','cp037','latin_1']:\n",
    "    try:\n",
    "        s_mystery=mystery.decode(encoding=method)   \n",
    "    except UnicodeDecodeError:\n",
    "        continue\n",
    "    for char in s_mystery:\n",
    "        if ord(char)>127:\n",
    "            break\n",
    "    else:\n",
    "        print(s_mystery)\n"
   ]
  },
  {
   "cell_type": "markdown",
   "metadata": {},
   "source": [
    "---\n",
    "\n",
    "---\n",
    "\n",
    "## Part B\n",
    "\n",
    "**Q7:** How much time (in minutes/hours) did you spend on this homework assignment?"
   ]
  },
  {
   "attachments": {},
   "cell_type": "markdown",
   "metadata": {},
   "source": [
    "1 and a half hours"
   ]
  },
  {
   "cell_type": "markdown",
   "metadata": {},
   "source": [
    "**Q8:** Who was your partner for this assignment?  If you worked alone, say so instead."
   ]
  },
  {
   "attachments": {},
   "cell_type": "markdown",
   "metadata": {},
   "source": [
    "I worked alone"
   ]
  }
 ],
 "metadata": {
  "kernelspec": {
   "display_name": "Python 3",
   "language": "python",
   "name": "python3"
  },
  "language_info": {
   "codemirror_mode": {
    "name": "ipython",
    "version": 3
   },
   "file_extension": ".py",
   "mimetype": "text/x-python",
   "name": "python",
   "nbconvert_exporter": "python",
   "pygments_lexer": "ipython3",
   "version": "3.9.13"
  }
 },
 "nbformat": 4,
 "nbformat_minor": 4
}
