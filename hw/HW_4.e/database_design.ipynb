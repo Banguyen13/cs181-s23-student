{
 "cells": [
  {
   "attachments": {},
   "cell_type": "markdown",
   "metadata": {},
   "source": [
    "# Denison CS181/DA210 Homework 4.e - Step 1\n",
    "\n",
    "Before you turn this notebook in, make sure everything runs as expected. This is a combination of **restarting the kernel** and then **running all cells**.\n",
    "\n",
    "Make sure you fill in any place that says `# YOUR CODE HERE` or \"YOUR ANSWER HERE\"."
   ]
  },
  {
   "cell_type": "markdown",
   "metadata": {},
   "source": [
    "---"
   ]
  },
  {
   "cell_type": "markdown",
   "metadata": {},
   "source": [
    "## Part A: Table Design\n",
    "\n",
    "For this homework, you should think about the data you plan to use in your final project.  You are not committed to the design you develop for the homework, but the goal here is to walk you through the steps of sound database design, to help you along the way with your project.\n",
    "\n",
    "Note that these kinds of questions rarely have a single right answer, so keep an open mind and try to think carefully about what you are trying to design."
   ]
  },
  {
   "attachments": {},
   "cell_type": "markdown",
   "metadata": {
    "deletable": false,
    "editable": false,
    "nbgrader": {
     "cell_type": "markdown",
     "checksum": "d0f7af3f221eeefb0d779df21126a846",
     "grade": false,
     "grade_id": "cell-d6749c5a3b138384",
     "locked": true,
     "schema_version": 3,
     "solution": false,
     "task": false
    }
   },
   "source": [
    "**Q1:** First, describe the datasets you are working with for the project, using simple English descriptions.  For example, you could describe a dataset related to college course registration, or a team-oriented sports league."
   ]
  },
  {
   "attachments": {},
   "cell_type": "markdown",
   "metadata": {},
   "source": [
    "`My dataset includes top 100 freshmen and 100 sophomore players in 2021-2022 NCAA ranking based on their average points per game. The columns data contains more than 20 average stats in basketball.`"
   ]
  },
  {
   "cell_type": "markdown",
   "metadata": {
    "deletable": false,
    "editable": false,
    "nbgrader": {
     "cell_type": "markdown",
     "checksum": "c5edddc09e4cc6fb69887b1c7024355c",
     "grade": false,
     "grade_id": "cell-0b928df805d2e793",
     "locked": true,
     "schema_version": 3,
     "solution": false,
     "task": false
    }
   },
   "source": [
    "**Q2:** In database design, we start with identifying the _entities_ that are the collection of _things_ that make up the database.  Even before relationships add other tables, our first goal is to identify the entities and to give a _table name_ for each entity.\n",
    "\n",
    "For the datasets described in answering the previous question, give a list and description of each of the entities."
   ]
  },
  {
   "attachments": {},
   "cell_type": "markdown",
   "metadata": {},
   "source": [
    "`I have two tables with the completelty the same fields so I only have one entity and it's also my databased described in the previous question`"
   ]
  },
  {
   "cell_type": "markdown",
   "metadata": {
    "deletable": false,
    "editable": false,
    "nbgrader": {
     "cell_type": "markdown",
     "checksum": "e6abc96cbe5f68daca7665461fdc8e92",
     "grade": false,
     "grade_id": "cell-7f186baf19e8c17f",
     "locked": true,
     "schema_version": 3,
     "solution": false,
     "task": false
    }
   },
   "source": [
    "**Q3:** Check your table names.  List any instances of tables for which:\n",
    "- the name of the table is not plural, or\n",
    "- the table is defining a relationship between entities (and has a name that is composed of two entities).\n",
    "\n",
    "If there are no such instances, say so instead.\n",
    "\n",
    "Note: design is an iterative refinement process, so it's okay to find things that need to be improved (and doesn't necessarily invalidate your answers to the previous questions)."
   ]
  },
  {
   "attachments": {},
   "cell_type": "markdown",
   "metadata": {},
   "source": [
    "`There is no such instances`"
   ]
  },
  {
   "cell_type": "markdown",
   "metadata": {
    "deletable": false,
    "editable": false,
    "nbgrader": {
     "cell_type": "markdown",
     "checksum": "c319b460329c52fe9056b921144df423",
     "grade": false,
     "grade_id": "cell-ca0441f511c8bb02",
     "locked": true,
     "schema_version": 3,
     "solution": false,
     "task": false
    }
   },
   "source": [
    "**Q4:** For each entity table, list the functional dependency that gives the independent variable(s) and a first pass at the dependent variables for the entity."
   ]
  },
  {
   "attachments": {},
   "cell_type": "markdown",
   "metadata": {},
   "source": [
    "`In my table, 'player' and 'team' are two independent variables and the rest are dependent`"
   ]
  },
  {
   "cell_type": "markdown",
   "metadata": {},
   "source": [
    "**Q5:** Identify any cases where two entity tables have the _same set_ of independent variables on the left-hand side of a functional dependency, and combine into a single table."
   ]
  },
  {
   "attachments": {},
   "cell_type": "markdown",
   "metadata": {},
   "source": [
    "`My two tables have the same set of variables, both dependent and independent, and will be merged together`"
   ]
  },
  {
   "cell_type": "markdown",
   "metadata": {},
   "source": [
    "**Q6:** For each functional dependency, go through the dependent variables and verify whether the variable is dependent on _only a subset_ of the independent variables.\n",
    "\n",
    "If found, break these out into _different_ functional dependencies."
   ]
  },
  {
   "attachments": {},
   "cell_type": "markdown",
   "metadata": {},
   "source": [
    "`I don't find any`"
   ]
  },
  {
   "cell_type": "markdown",
   "metadata": {},
   "source": [
    "**Q7:** Identify the _primary key_ for each table, and state for each whether it is a _singleton_ or _composite_ key."
   ]
  },
  {
   "attachments": {},
   "cell_type": "markdown",
   "metadata": {},
   "source": [
    "`Primary key for my table is composite key ('player','team')`"
   ]
  },
  {
   "cell_type": "markdown",
   "metadata": {},
   "source": [
    "---\n",
    "\n",
    "## Part B: Table-Field Design\n",
    "\n",
    "**Q8:** Consider, from the tables described in the previous part, the table with the most variables in its functional dependency (or one with fewer that are potentially more interesting).\n",
    "\n",
    "For all variables associated with that table:\n",
    "- Define the _field name_ to be used for each field.\n",
    "- List the data type to be used for each field.\n",
    "- Indicate whether each field can have a value that is _missing_ (i.e., `NULL`).\n",
    "- Write down 3 or 4 example values that you expect each field to have in different rows of the table."
   ]
  },
  {
   "attachments": {},
   "cell_type": "markdown",
   "metadata": {},
   "source": [
    "`Player`: VARCHAR(50) NOT NULL e.g: Bang Nguyen, Kevin Durant, Paolo Banchero\n",
    "\n",
    "`Team`: VARCHAR(5) NOT NULL e.g: UCLA, UConn, UNC, Duke\n",
    "\n",
    "`GP`: INT(2) NOT NULL e.g: 30, 31, 32\n",
    "\n",
    "`MPG`: FLOAT NOT NULL e.g: 30.1, 30.2, 30.3\n",
    "\n",
    "`PPG`: FLOAT NOT NULL e.g: 16.1, 16.2, 16.3\n",
    "\n",
    "`FGM`: FLOAT NOT NULL e.g: 5.0, 5.1, 5.2\n",
    "\n",
    "`FGA`: FLOAT NOT NULL e.g: 14.5, 14.6, 14.7\n",
    "\n",
    "`FG%`: FLOAT NOT NULL e.g: .5, .56, .54\n",
    "\n",
    "`3PM`: FLOAT NOT NULL e.g: 0.7, 0.9, 1.2\n",
    "\n",
    "`3PA`: FLOAT NOT NULL e.g: 1.7, 3.8, 5.9\n",
    "\n",
    "`3P%`: FLOAT NOT NULL e.g: .3, .4, .34\n",
    "\n",
    "`FTM`: FLOAT NOT NULL e.g: 4.1, 5.2, 6.3\n",
    "\n",
    "`FTA`: FLOAT NOT NULL e.g: 7.3, 4.8, 6.1\n",
    "\n",
    "`FT%`: FLOAT NOT NULL e.g: .7, .8, .78\n",
    "\n",
    "`ORB`: FLOAT NOT NULL e.g: 2.6, 2.7, 2.8\n",
    "\n",
    "`DRB`: FLOAT NOT NULL e.g: 5.8, 4.9, 6.7\n",
    "\n",
    "`RPG`: FLOAT NOT NULL e.g: 8.4, 7.1, 6.6\n",
    "\n",
    "`APG`: FLOAT NOT NULL e.g: 2.5, 3.6, 4.1\n",
    "\n",
    "`SPG`: FLOAT NOT NULL e.g: 1.7, 0.8, 1.3\n",
    "\n",
    "`BPG`: AFLOAT NOT NULL e.g: .2, 1.7, .6\n",
    "\n",
    "`TOV`: FLOAT NOT NULL e.g: 1.1, 2.0, 3.1\n",
    "\n",
    "`PF`: FLOAT NOT NULL e.g: 2.5, 1.9, 1.8\n"
   ]
  },
  {
   "cell_type": "markdown",
   "metadata": {},
   "source": [
    "**Q9:** Go through your list from the previous question's answer and identify any of the following violations, if present.  If no issues are present, say so instead.\n",
    "- A field name that is really a _value_ for a variable.\n",
    "- A field that can be derived from other fields.\n",
    "- A field whose example values are either a mash-up or a list of values.\n",
    "- A set of fields that are different versions of the same thing (e.g., `major1`, `major2`).\n",
    "- Any other poor naming or other violations mentioned in Sec. 14.3."
   ]
  },
  {
   "attachments": {},
   "cell_type": "markdown",
   "metadata": {},
   "source": [
    "`There isn't any`"
   ]
  },
  {
   "cell_type": "markdown",
   "metadata": {},
   "source": [
    "---\n",
    "\n",
    "---\n",
    "\n",
    "## Part C\n",
    "\n",
    "**Q10:** How much time (in minutes/hours) did you spend on this homework assignment?"
   ]
  },
  {
   "attachments": {},
   "cell_type": "markdown",
   "metadata": {},
   "source": [
    "45 minutes"
   ]
  },
  {
   "cell_type": "markdown",
   "metadata": {},
   "source": [
    "**Q11:** Who was your partner for this assignment?  If you worked alone, say so instead."
   ]
  },
  {
   "attachments": {},
   "cell_type": "markdown",
   "metadata": {},
   "source": [
    "I worked alone"
   ]
  }
 ],
 "metadata": {
  "kernelspec": {
   "display_name": "Python 3",
   "language": "python",
   "name": "python3"
  },
  "language_info": {
   "codemirror_mode": {
    "name": "ipython",
    "version": 3
   },
   "file_extension": ".py",
   "mimetype": "text/x-python",
   "name": "python",
   "nbconvert_exporter": "python",
   "pygments_lexer": "ipython3",
   "version": "3.9.7"
  }
 },
 "nbformat": 4,
 "nbformat_minor": 4
}
